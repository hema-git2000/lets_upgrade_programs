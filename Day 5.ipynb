{
 "cells": [
  {
   "cell_type": "markdown",
   "metadata": {},
   "source": [
    "# Project 1 - Cryptography :"
   ]
  },
  {
   "cell_type": "code",
   "execution_count": 1,
   "metadata": {},
   "outputs": [
    {
     "name": "stdout",
     "output_type": "stream",
     "text": [
      "Requirement already satisfied: cryptography in c:\\users\\jayas\\anaconda3\\lib\\site-packages (2.8)\n",
      "Requirement already satisfied: cffi!=1.11.3,>=1.8 in c:\\users\\jayas\\anaconda3\\lib\\site-packages (from cryptography) (1.14.0)\n",
      "Requirement already satisfied: six>=1.4.1 in c:\\users\\jayas\\anaconda3\\lib\\site-packages (from cryptography) (1.14.0)\n",
      "Requirement already satisfied: pycparser in c:\\users\\jayas\\anaconda3\\lib\\site-packages (from cffi!=1.11.3,>=1.8->cryptography) (2.19)\n"
     ]
    }
   ],
   "source": [
    "!pip install cryptography"
   ]
  },
  {
   "cell_type": "code",
   "execution_count": 2,
   "metadata": {},
   "outputs": [],
   "source": [
    "from cryptography.fernet import Fernet"
   ]
  },
  {
   "cell_type": "code",
   "execution_count": 4,
   "metadata": {},
   "outputs": [
    {
     "name": "stdout",
     "output_type": "stream",
     "text": [
      "b'm40d8guNYg7DC70rgIrg65Tz6MIFi_HKt2cppk-MO7g='\n",
      "<class 'bytes'>\n"
     ]
    }
   ],
   "source": [
    "def generatePassKey():\n",
    "    key=Fernet.generate_key()\n",
    "    print(key)\n",
    "    #print(type(key))\n",
    "    fp=open(\"PasswordKey.key\",'wb')\n",
    "    fp.write(key)\n",
    "    fp.close()\n",
    "generatePassKey()"
   ]
  },
  {
   "cell_type": "code",
   "execution_count": 5,
   "metadata": {},
   "outputs": [
    {
     "data": {
      "text/plain": [
       "b'm40d8guNYg7DC70rgIrg65Tz6MIFi_HKt2cppk-MO7g='"
      ]
     },
     "execution_count": 5,
     "metadata": {},
     "output_type": "execute_result"
    }
   ],
   "source": [
    "def getMyKey():\n",
    "    fp=open(\"PasswordKey.key\",'rb')\n",
    "    return fp.read()\n",
    "getMyKey()"
   ]
  },
  {
   "cell_type": "code",
   "execution_count": 6,
   "metadata": {},
   "outputs": [],
   "source": [
    "def getContentFromUser():\n",
    "    return input(\"Enter the content you want to encrypt : \")"
   ]
  },
  {
   "cell_type": "code",
   "execution_count": 7,
   "metadata": {},
   "outputs": [
    {
     "name": "stdout",
     "output_type": "stream",
     "text": [
      "Enter the content you want to encrypt : python essentials program\n"
     ]
    },
    {
     "data": {
      "text/plain": [
       "'python essentials program'"
      ]
     },
     "execution_count": 7,
     "metadata": {},
     "output_type": "execute_result"
    }
   ],
   "source": [
    "getContentFromUser()"
   ]
  },
  {
   "cell_type": "code",
   "execution_count": 8,
   "metadata": {},
   "outputs": [
    {
     "data": {
      "text/plain": [
       "b'gAAAAABf3Y9dOIM6TFS_rumHZWOXPe-p6ZZNmQhIrrb4T63D-pgvHl0x8ajC1N7f-l-4L4_-xv8ogseWdmxX-koUKKRKRlaXjg=='"
      ]
     },
     "execution_count": 8,
     "metadata": {},
     "output_type": "execute_result"
    }
   ],
   "source": [
    "def encryptMessage(message_normal):\n",
    "    key=getMyKey()\n",
    "    k=Fernet(key)\n",
    "    encrypted_Message=k.encrypt(message_normal)\n",
    "    return encrypted_Message\n",
    "encryptMessage(b\"Hello\")"
   ]
  },
  {
   "cell_type": "code",
   "execution_count": 9,
   "metadata": {},
   "outputs": [
    {
     "data": {
      "text/plain": [
       "b'Hello'"
      ]
     },
     "execution_count": 9,
     "metadata": {},
     "output_type": "execute_result"
    }
   ],
   "source": [
    "def decryptMessage(message_secret):\n",
    "    key=getMyKey()\n",
    "    k=Fernet(key)\n",
    "    decrypted_Message=k.decrypt(message_secret)\n",
    "    return decrypted_Message\n",
    "decryptMessage(\n",
    "b'gAAAAABf3Y9dOIM6TFS_rumHZWOXPe-p6ZZNmQhIrrb4T63D-pgvHl0x8ajC1N7f-l-4L4_-xv8ogseWdmxX-koUKKRKRlaXjg=='\n",
    ")"
   ]
  },
  {
   "cell_type": "code",
   "execution_count": null,
   "metadata": {},
   "outputs": [],
   "source": []
  }
 ],
 "metadata": {
  "kernelspec": {
   "display_name": "Python 3",
   "language": "python",
   "name": "python3"
  },
  "language_info": {
   "codemirror_mode": {
    "name": "ipython",
    "version": 3
   },
   "file_extension": ".py",
   "mimetype": "text/x-python",
   "name": "python",
   "nbconvert_exporter": "python",
   "pygments_lexer": "ipython3",
   "version": "3.7.6"
  }
 },
 "nbformat": 4,
 "nbformat_minor": 4
}
