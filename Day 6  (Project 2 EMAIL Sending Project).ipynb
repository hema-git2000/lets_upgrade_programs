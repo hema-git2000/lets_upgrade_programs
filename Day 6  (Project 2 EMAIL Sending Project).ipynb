{
 "cells": [
  {
   "cell_type": "code",
   "execution_count": 2,
   "metadata": {},
   "outputs": [
    {
     "name": "stdout",
     "output_type": "stream",
     "text": [
      "Requirement already satisfied: emails in c:\\users\\jayas\\anaconda3\\lib\\site-packages (0.6)\n",
      "Requirement already satisfied: cssutils in c:\\users\\jayas\\anaconda3\\lib\\site-packages (from emails) (1.0.2)\n",
      "Requirement already satisfied: lxml in c:\\users\\jayas\\anaconda3\\lib\\site-packages (from emails) (4.5.0)\n",
      "Requirement already satisfied: chardet in c:\\users\\jayas\\anaconda3\\lib\\site-packages (from emails) (3.0.4)\n",
      "Requirement already satisfied: premailer in c:\\users\\jayas\\anaconda3\\lib\\site-packages (from emails) (3.7.0)\n",
      "Requirement already satisfied: python-dateutil in c:\\users\\jayas\\anaconda3\\lib\\site-packages (from emails) (2.8.1)\n",
      "Requirement already satisfied: requests in c:\\users\\jayas\\anaconda3\\lib\\site-packages (from emails) (2.22.0)\n",
      "Requirement already satisfied: cachetools in c:\\users\\jayas\\anaconda3\\lib\\site-packages (from premailer->emails) (4.2.0)\n",
      "Requirement already satisfied: cssselect in c:\\users\\jayas\\anaconda3\\lib\\site-packages (from premailer->emails) (1.1.0)\n",
      "Requirement already satisfied: six>=1.5 in c:\\users\\jayas\\anaconda3\\lib\\site-packages (from python-dateutil->emails) (1.14.0)\n",
      "Requirement already satisfied: certifi>=2017.4.17 in c:\\users\\jayas\\anaconda3\\lib\\site-packages (from requests->emails) (2019.11.28)\n",
      "Requirement already satisfied: idna<2.9,>=2.5 in c:\\users\\jayas\\anaconda3\\lib\\site-packages (from requests->emails) (2.8)\n",
      "Requirement already satisfied: urllib3!=1.25.0,!=1.25.1,<1.26,>=1.21.1 in c:\\users\\jayas\\anaconda3\\lib\\site-packages (from requests->emails) (1.25.8)\n"
     ]
    }
   ],
   "source": [
    "!pip install emails"
   ]
  },
  {
   "cell_type": "code",
   "execution_count": 2,
   "metadata": {},
   "outputs": [],
   "source": [
    "import emails\n",
    "html_text=''' <p>Hey hii</p>\n",
    "<p>&nbsp;</p>\n",
    "<p>I am from India</p>\n",
    "<p>&nbsp;</p>\n",
    "<p>Student from AP</p>\n",
    "<p>&nbsp;</p>\n",
    "<p>Love python programming</p>\n",
    "<p>&nbsp;</p>\n",
    "<p>Regards</p>\n",
    "<p>*******</p>'''\n",
    "\n",
    "message = emails.html(html=html_text,\n",
    "                              subject=\"Your EMAIL FROM PYTHON SCRIPT\",\n",
    "                              mail_from=('Hey Hii', 'batchu@xyz.com'))"
   ]
  },
  {
   "cell_type": "code",
   "execution_count": 3,
   "metadata": {},
   "outputs": [],
   "source": [
    "mail_via_python = message.send(to='nabipi7212@econeom.com',\n",
    "                                  smtp={'host': 'smtp.gmail.com',\n",
    "                                        'timeout': 5,\n",
    "                                       'port':587,\n",
    "                                       'user':'batchuhema06@gmail.com',\n",
    "                                       'password':'bhs@1234',\n",
    "                                       'tls':True})"
   ]
  },
  {
   "cell_type": "code",
   "execution_count": 4,
   "metadata": {},
   "outputs": [
    {
     "data": {
      "text/plain": [
       "250"
      ]
     },
     "execution_count": 4,
     "metadata": {},
     "output_type": "execute_result"
    }
   ],
   "source": [
    "mail_via_python.status_code"
   ]
  },
  {
   "cell_type": "markdown",
   "metadata": {},
   "source": []
  }
 ],
 "metadata": {
  "kernelspec": {
   "display_name": "Python 3",
   "language": "python",
   "name": "python3"
  },
  "language_info": {
   "codemirror_mode": {
    "name": "ipython",
    "version": 3
   },
   "file_extension": ".py",
   "mimetype": "text/x-python",
   "name": "python",
   "nbconvert_exporter": "python",
   "pygments_lexer": "ipython3",
   "version": "3.7.6"
  }
 },
 "nbformat": 4,
 "nbformat_minor": 4
}
