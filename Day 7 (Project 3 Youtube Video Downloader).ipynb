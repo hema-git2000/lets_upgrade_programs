{
 "cells": [
  {
   "cell_type": "code",
   "execution_count": 1,
   "metadata": {},
   "outputs": [
    {
     "name": "stdout",
     "output_type": "stream",
     "text": [
      "Collecting pytube\n",
      "  Downloading pytube-10.0.0-py3-none-any.whl (40 kB)\n",
      "Collecting typing-extensions\n",
      "  Downloading typing_extensions-3.7.4.3-py3-none-any.whl (22 kB)\n",
      "Installing collected packages: typing-extensions, pytube\n",
      "Successfully installed pytube-10.0.0 typing-extensions-3.7.4.3\n"
     ]
    }
   ],
   "source": [
    "!pip install pytube"
   ]
  },
  {
   "cell_type": "code",
   "execution_count": null,
   "metadata": {},
   "outputs": [],
   "source": [
    "from pytube import YouTube\n",
    "import os\n",
    "from tkinter import *\n",
    "\n",
    "root=Tk()\n",
    "root.geometry('600x200')\n",
    "root.title('Youtube Video Downloader')\n",
    "\n",
    "\n",
    "Label_1=Label(root,text=\"Youtube Video Link\", font=(\"bold\",20))\n",
    "Label_1.place(x=120,y=20)\n",
    "\n",
    "\n",
    "mylink=StringVar()\n",
    "e1=Entry(root, width=60, textvariable=mylink)\n",
    "e1.place(x=140, y=80)\n",
    "\n",
    "#link=\"https://www.youtube.com/watch?v=0NV1KdWRHck\"\n",
    "\n",
    "def downloadVideo():\n",
    "    x=str(mylink.get())\n",
    "    ytvideo=YouTube(x).streams.filter(progressive=True, file_extension='mp4').order_by('resolution').desc().first()\n",
    "    if not os.path.exists('E:/Softwares'):\n",
    "        os.makedirs('E:/Softwares')\n",
    "    ytvideo.download('E:/Softwares') \n",
    "\n",
    "Button(root,text=\"Download Video\", width=20, bg='green',fg=\"white\", command=downloadVideo).place(x=220, y=110)\n",
    "\n",
    "root.mainloop()"
   ]
  },
  {
   "cell_type": "code",
   "execution_count": null,
   "metadata": {},
   "outputs": [],
   "source": []
  }
 ],
 "metadata": {
  "kernelspec": {
   "display_name": "Python 3",
   "language": "python",
   "name": "python3"
  },
  "language_info": {
   "codemirror_mode": {
    "name": "ipython",
    "version": 3
   },
   "file_extension": ".py",
   "mimetype": "text/x-python",
   "name": "python",
   "nbconvert_exporter": "python",
   "pygments_lexer": "ipython3",
   "version": "3.7.6"
  }
 },
 "nbformat": 4,
 "nbformat_minor": 4
}
