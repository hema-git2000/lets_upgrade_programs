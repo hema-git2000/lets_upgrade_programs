{
 "cells": [
  {
   "cell_type": "markdown",
   "metadata": {},
   "source": [
    "#Assignment 2"
   ]
  },
  {
   "cell_type": "code",
   "execution_count": 29,
   "metadata": {},
   "outputs": [
    {
     "name": "stdout",
     "output_type": "stream",
     "text": [
      "6\n",
      "2\n",
      "False\n",
      "l e t s u p g r a d e - p r o g r a m\n",
      "letsupgrade-course\n",
      "['letsupgrade-program']\n"
     ]
    }
   ],
   "source": [
    "s=\"letsupgrade-program\"\n",
    "print(s.index('g'))\n",
    "print(s.count('e'))\n",
    "print(s.isalpha())\n",
    "print(\" \".join(s))\n",
    "print(s.replace(\"program\",\"course\"))\n",
    "print(s.split(\",\"))"
   ]
  },
  {
   "cell_type": "code",
   "execution_count": 30,
   "metadata": {},
   "outputs": [
    {
     "name": "stdout",
     "output_type": "stream",
     "text": [
      "[1, 2, 3, 'python', 'letsupgrade']\n",
      "1\n",
      "[1, 2, 3, 'python', 'letsupgrade', 4, 5]\n",
      "3\n",
      "[1, 2, 3, 'python', 'java', 'letsupgrade', 4, 5]\n"
     ]
    }
   ],
   "source": [
    "l=[1,2,3,\"python\"]\n",
    "l.append(\"letsupgrade\")\n",
    "print(l)\n",
    "print(l.count(1))\n",
    "l.extend([4,5])\n",
    "print(l)\n",
    "print(l.index(\"python\"))\n",
    "l.insert(4,\"java\")\n",
    "print(l)"
   ]
  },
  {
   "cell_type": "code",
   "execution_count": 31,
   "metadata": {},
   "outputs": [
    {
     "name": "stdout",
     "output_type": "stream",
     "text": [
      "NAME :  abc\n",
      "KEYS :  dict_keys(['name', 'id', 'salary'])\n",
      "VALUES :  dict_values(['abc', 'a123', 22000])\n",
      "Keys and values :  dict_items([('name', 'abc'), ('id', 'a123'), ('salary', 22000)])\n",
      "{'name': 'abc', 'id': 'a123', 'salary': 22000, 'age': 27}\n"
     ]
    }
   ],
   "source": [
    "d={'name':'abc','id':'a123','salary':22000} \n",
    "#get method\n",
    "print(\"NAME : \",d.get('name'))\n",
    "# keys method\n",
    "print(\"KEYS : \", d.keys())\n",
    "#values method\n",
    "print(\"VALUES : \", d.values())\n",
    "# items method\n",
    "print(\"Keys and values : \", d.items())\n",
    "#update method\n",
    "d.update(age=27) \n",
    "print(d)"
   ]
  },
  {
   "cell_type": "code",
   "execution_count": null,
   "metadata": {},
   "outputs": [],
   "source": []
  }
 ],
 "metadata": {
  "kernelspec": {
   "display_name": "Python 3",
   "language": "python",
   "name": "python3"
  },
  "language_info": {
   "codemirror_mode": {
    "name": "ipython",
    "version": 3
   },
   "file_extension": ".py",
   "mimetype": "text/x-python",
   "name": "python",
   "nbconvert_exporter": "python",
   "pygments_lexer": "ipython3",
   "version": "3.7.8"
  }
 },
 "nbformat": 4,
 "nbformat_minor": 4
}
